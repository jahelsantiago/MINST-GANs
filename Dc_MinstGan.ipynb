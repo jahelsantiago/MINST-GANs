{
  "nbformat": 4,
  "nbformat_minor": 0,
  "metadata": {
    "colab": {
      "name": "Dc_MinstGan.ipynb",
      "provenance": [],
      "collapsed_sections": [],
      "authorship_tag": "ABX9TyPtRAJfe5Bc/N1yr9SZc27f",
      "include_colab_link": true
    },
    "kernelspec": {
      "name": "python3",
      "display_name": "Python 3"
    }
  },
  "cells": [
    {
      "cell_type": "markdown",
      "metadata": {
        "id": "view-in-github",
        "colab_type": "text"
      },
      "source": [
        "<a href=\"https://colab.research.google.com/github/jahelsantiago/MINST-GANs/blob/main/Dc_MinstGan.ipynb\" target=\"_parent\"><img src=\"https://colab.research.google.com/assets/colab-badge.svg\" alt=\"Open In Colab\"/></a>"
      ]
    },
    {
      "cell_type": "code",
      "metadata": {
        "id": "h0lfOT5cOkN3"
      },
      "source": [
        "import torch\r\n",
        "from torch import nn"
      ],
      "execution_count": 2,
      "outputs": []
    },
    {
      "cell_type": "markdown",
      "metadata": {
        "id": "AJgodglNPcuT"
      },
      "source": [
        "## GENERATOR"
      ]
    },
    {
      "cell_type": "code",
      "metadata": {
        "id": "xCv20bmAPeDC"
      },
      "source": [
        "class Generator(nn.Module):\r\n",
        "  def __init__(self, z_dim = 10, img_chanel = 1, hidden_dim = 64):\r\n",
        "    super(Generator,self).__init__()\r\n",
        "    self.gen = nn.Sequential(\r\n",
        "        self.get_gen_blok(z_dim, hidden_dim*4),\r\n",
        "        self.get_gen_blok(hidden_dim*4, hidden_dim*2),\r\n",
        "        self.get_gen_blok(hidden_dim*2, hidden_dim),\r\n",
        "        self.get_gen_blok(hidden_dim, img_chanel, final_layer = True)                          \r\n",
        "    )\r\n",
        "\r\n",
        "  def get_gen_blok(self, input_dim,output_dim, kernel, stride, final_layer):\r\n",
        "    if not final_layer:      \r\n",
        "      model = nn.Sequential(\r\n",
        "        nn.ConvTranspose2d(input_dim,output_dim,kernel,stride),\r\n",
        "        nn.BatchNorm2d(output_dim),\r\n",
        "        nn.ReLU()\r\n",
        "      )\r\n",
        "    else:\r\n",
        "      model = nn.Sequential(\r\n",
        "        nn.ConvTranspose2d(input_dim,output_dim,kernel,stride),\r\n",
        "        nn.Tanh()\r\n",
        "      )\r\n",
        "    return model\r\n",
        "\r\n",
        "  def forward(self, noise):\r\n",
        "    noise.view(num)\r\n",
        "\r\n",
        "\r\n",
        "def get_noise(n_samples, z_dim = 10, device):\r\n",
        "  return torch.randn(n_samples, z_dim, device=device)\r\n",
        "\r\n"
      ],
      "execution_count": null,
      "outputs": []
    }
  ]
}